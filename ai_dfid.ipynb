{
 "cells": [
  {
   "cell_type": "code",
   "execution_count": 9,
   "metadata": {},
   "outputs": [],
   "source": [
    "import itertools\n",
    "import math\n",
    "import sys"
   ]
  },
  {
   "cell_type": "code",
   "execution_count": 10,
   "metadata": {},
   "outputs": [
    {
     "name": "stdout",
     "output_type": "stream",
     "text": [
      "Best length: 10.79669127533634\n",
      "Best path: [0, 1, 2, 3, 0]\n"
     ]
    }
   ],
   "source": [
    "def distance(point1,point2):\n",
    "    x1,y1 = point1\n",
    "    x2,y2 = point2\n",
    "    return math.sqrt(((x1-x2)**2)+((y1-y2)**2))\n",
    "\n",
    "def path_length(path,cities):\n",
    "    tot_dist = 0\n",
    "    for i in range(len(path)-1):\n",
    "        tot_dist +=distance(cities[path[i]],cities[path[i+1]])\n",
    "    return tot_dist\n",
    "\n",
    "def check_goal_test(path,num_cities):\n",
    "    return len(path) == num_cities+1\n",
    "\n",
    "def dfs_tsp(cities,current_city,depth,path,best_path,best_len):\n",
    "    num_cites = len(cities)\n",
    "\n",
    "    if depth == num_cites:\n",
    "        length = path_length(path,cities)\n",
    "        if(length<best_len[0]):\n",
    "            best_len[0]=length\n",
    "            best_path[0]=path.copy()\n",
    "        return\n",
    "    for next_city in range(num_cites):\n",
    "        if next_city not in path:\n",
    "            path.append(next_city)\n",
    "            dfs_tsp(cities,next_city,depth+1,path,best_path,best_len)\n",
    "            path.pop()\n",
    "            \n",
    "def dfid_tsp(cities):\n",
    "    num_cities = len(cities)\n",
    "    start_city = 0\n",
    "    best_path = [None]\n",
    "    best_len = [sys.float_info.max]\n",
    "\n",
    "    for depth_limit in range(1,num_cities):\n",
    "        dfs_tsp(cities,start_city,1,[start_city],best_path,best_len)\n",
    "    \n",
    "    return best_path[0],best_len[0]\n",
    "\n",
    "cities = [(0,0),(1,2),(2,4),(3,1)]\n",
    "best_path, best_len = dfid_tsp(cities)\n",
    "print(\"Best length:\",best_len+distance(cities[0],cities[best_path[-1]]))\n",
    "best_path.append(0)\n",
    "print(\"Best path:\",best_path)\n"
   ]
  },
  {
   "cell_type": "code",
   "execution_count": null,
   "metadata": {},
   "outputs": [],
   "source": []
  }
 ],
 "metadata": {
  "interpreter": {
   "hash": "aee8b7b246df8f9039afb4144a1f6fd8d2ca17a180786b69acc140d282b71a49"
  },
  "kernelspec": {
   "display_name": "Python 3.10.4 64-bit",
   "language": "python",
   "name": "python3"
  },
  "language_info": {
   "codemirror_mode": {
    "name": "ipython",
    "version": 3
   },
   "file_extension": ".py",
   "mimetype": "text/x-python",
   "name": "python",
   "nbconvert_exporter": "python",
   "pygments_lexer": "ipython3",
   "version": "3.11.5"
  },
  "orig_nbformat": 4
 },
 "nbformat": 4,
 "nbformat_minor": 2
}
